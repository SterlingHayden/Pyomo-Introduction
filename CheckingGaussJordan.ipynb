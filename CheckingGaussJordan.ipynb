{
  "nbformat": 4,
  "nbformat_minor": 0,
  "metadata": {
    "colab": {
      "provenance": [],
      "include_colab_link": true
    },
    "kernelspec": {
      "name": "python3",
      "display_name": "Python 3"
    },
    "language_info": {
      "name": "python"
    }
  },
  "cells": [
    {
      "cell_type": "markdown",
      "metadata": {
        "id": "view-in-github",
        "colab_type": "text"
      },
      "source": [
        "<a href=\"https://colab.research.google.com/github/SterlingHayden/Pyomo-Introduction/blob/main/CheckingGaussJordan.ipynb\" target=\"_parent\"><img src=\"https://colab.research.google.com/assets/colab-badge.svg\" alt=\"Open In Colab\"/></a>"
      ]
    },
    {
      "cell_type": "markdown",
      "source": [
        "# Checking Gauss-Jordan Elimination using a Matrix Inverse"
      ],
      "metadata": {
        "id": "1lYkVwTbC9bi"
      }
    },
    {
      "cell_type": "code",
      "source": [
        "import numpy as np\n",
        "from numpy import linalg as LA"
      ],
      "metadata": {
        "id": "xCyBAhq8fu-t"
      },
      "execution_count": null,
      "outputs": []
    },
    {
      "cell_type": "markdown",
      "source": [
        "## Example 3 from Linear Algebra Primer I"
      ],
      "metadata": {
        "id": "kAKA8mfkQ-vF"
      }
    },
    {
      "cell_type": "markdown",
      "source": [
        "\\begin{equation*}\n",
        "[A|b] = \\left[\\begin{array}{rrr}\n",
        "1 & 2 & 1 \\\\\n",
        "1 & -1 & 2 \\\\\n",
        "3 & 0 & 1\n",
        " \\end{array} \\left| \\begin{array}{r} 13 \\\\ 13 \\\\ 5\\end{array} \\right. \\right]\n",
        "\\end{equation*}"
      ],
      "metadata": {
        "id": "EdXy0JymBdLX"
      }
    },
    {
      "cell_type": "code",
      "source": [
        "A = np.array([[1, 2, 1],[1, -1, 2], [3, 0, 1]])\n",
        "b = np.array([[13], [13], [15]])\n",
        "print(A)\n",
        "print(b)"
      ],
      "metadata": {
        "id": "cvPmlWLcfQQG",
        "outputId": "ffb0ac0e-b5a5-4e4a-dcbf-c5640ff82c54",
        "colab": {
          "base_uri": "https://localhost:8080/"
        }
      },
      "execution_count": null,
      "outputs": [
        {
          "output_type": "stream",
          "name": "stdout",
          "text": [
            "[[ 1  2  1]\n",
            " [ 1 -1  2]\n",
            " [ 3  0  1]]\n",
            "[[13]\n",
            " [13]\n",
            " [15]]\n"
          ]
        }
      ]
    },
    {
      "cell_type": "markdown",
      "source": [
        "Because $A$ is an invertible square matrix, $x = A^{-1}b$."
      ],
      "metadata": {
        "id": "35t6hWDWCxkt"
      }
    },
    {
      "cell_type": "code",
      "source": [
        "x = LA.inv(A) @ b\n",
        "print(x)\n",
        "\n",
        "x = LA.solve(A,b)\n",
        "print(x)"
      ],
      "metadata": {
        "id": "WXgdBoyOf5Db",
        "outputId": "aceecf97-1a17-4b5b-906b-c4af64822129",
        "colab": {
          "base_uri": "https://localhost:8080/"
        }
      },
      "execution_count": null,
      "outputs": [
        {
          "output_type": "stream",
          "name": "stdout",
          "text": [
            "[[3.]\n",
            " [2.]\n",
            " [6.]]\n",
            "[[3.]\n",
            " [2.]\n",
            " [6.]]\n"
          ]
        }
      ]
    },
    {
      "cell_type": "markdown",
      "source": [
        "## Example 8 from Linear Algebra Primer I"
      ],
      "metadata": {
        "id": "j5myq0nTRDPI"
      }
    },
    {
      "cell_type": "markdown",
      "source": [
        "\\begin{equation*}\n",
        "[A|b] = \\left[\\begin{array}{rrrrr}\n",
        "1 & 1 & -2 & 2 & -1\\\\\n",
        "2 & 4 & -1 & 8 & 1\n",
        "\\end{array} \\left| \\begin{array}{r} 3 \\\\ 19 \\end{array} \\right. \\right]\n",
        "\\end{equation*}"
      ],
      "metadata": {
        "id": "ajXrCEy2CQJc"
      }
    },
    {
      "cell_type": "code",
      "source": [
        "A = np.array([[1, 1, -2, 2, -1],[2, 4, -1, 8, 1]])\n",
        "b = np.array([[3], [19]])\n",
        "\n",
        "print(A)\n",
        "print(b)"
      ],
      "metadata": {
        "id": "TeHbOsfJiHR_",
        "outputId": "95c233ef-5565-4d83-f59e-7e99c8c8de45",
        "colab": {
          "base_uri": "https://localhost:8080/"
        }
      },
      "execution_count": null,
      "outputs": [
        {
          "output_type": "stream",
          "name": "stdout",
          "text": [
            "[[ 1  1 -2  2 -1]\n",
            " [ 2  4 -1  8  1]]\n",
            "[[ 3]\n",
            " [19]]\n"
          ]
        }
      ]
    },
    {
      "cell_type": "markdown",
      "source": [
        "We want to solve for $x_4$ and $x_5$ in terms of the remaining variables; therefore construct a basis matrix $B$ by extracting the $x_4$ and $x_5$ columns of $A$."
      ],
      "metadata": {
        "id": "UDD1raWnScDD"
      }
    },
    {
      "cell_type": "code",
      "source": [
        "B = A[:,[3,4]]\n",
        "B\n"
      ],
      "metadata": {
        "id": "ghrCkkqWRaHE",
        "outputId": "e0bb3ca1-9b0e-4fb0-9db6-640de1686f36",
        "colab": {
          "base_uri": "https://localhost:8080/"
        }
      },
      "execution_count": null,
      "outputs": [
        {
          "output_type": "execute_result",
          "data": {
            "text/plain": [
              "array([[ 2, -1],\n",
              "       [ 8,  1]])"
            ]
          },
          "metadata": {},
          "execution_count": 20
        }
      ]
    },
    {
      "cell_type": "markdown",
      "source": [
        "If it is possible to solve for $x_4$ and $x_5$ in terms of the remaining variables, $B$ will be invertible and the system resulting from Gauss-Jordan elimination will be $B^{-1}Ax = B^{-1}b$"
      ],
      "metadata": {
        "id": "rGReTSQ5DLzj"
      }
    },
    {
      "cell_type": "code",
      "source": [
        "Abar = LA.inv(B) @ A\n",
        "bbar = LA.inv(B) @ b\n",
        "print(Abar)\n",
        "print(bbar)"
      ],
      "metadata": {
        "id": "TJqbL0IYiKA4",
        "outputId": "d107c5b0-80d8-435f-c6bf-e3b65e2cda5a",
        "colab": {
          "base_uri": "https://localhost:8080/"
        }
      },
      "execution_count": null,
      "outputs": [
        {
          "output_type": "stream",
          "name": "stdout",
          "text": [
            "[[ 0.3  0.5 -0.3  1.   0. ]\n",
            " [-0.4  0.   1.4  0.   1. ]]\n",
            "[[2.2]\n",
            " [1.4]]\n"
          ]
        }
      ]
    }
  ]
}