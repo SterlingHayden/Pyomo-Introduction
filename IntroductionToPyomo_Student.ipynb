{
  "nbformat": 4,
  "nbformat_minor": 0,
  "metadata": {
    "colab": {
      "provenance": [],
      "private_outputs": true,
      "include_colab_link": true
    },
    "kernelspec": {
      "name": "python3",
      "display_name": "Python 3"
    },
    "language_info": {
      "name": "python"
    }
  },
  "cells": [
    {
      "cell_type": "markdown",
      "metadata": {
        "id": "view-in-github",
        "colab_type": "text"
      },
      "source": [
        "<a href=\"https://colab.research.google.com/github/SterlingHayden/Pyomo-Introduction/blob/main/IntroductionToPyomo_Student.ipynb\" target=\"_parent\"><img src=\"https://colab.research.google.com/assets/colab-badge.svg\" alt=\"Open In Colab\"/></a>"
      ]
    },
    {
      "cell_type": "markdown",
      "source": [
        "# Lesson 3: Introduction to Pyomo"
      ],
      "metadata": {
        "id": "9g4SJmH2H5Dj"
      }
    },
    {
      "cell_type": "markdown",
      "source": [
        "## Objectives"
      ],
      "metadata": {
        "id": "HYQ6-BVNKO8q"
      }
    },
    {
      "cell_type": "markdown",
      "source": [
        "Students will be skilled at\n",
        "1.   building small-scale concrete models in Pyomo\n",
        "2.   solving small-scale concrete models using an appropriate solver"
      ],
      "metadata": {
        "id": "5zJxHWvHKjT7"
      }
    },
    {
      "cell_type": "markdown",
      "source": [
        "## References"
      ],
      "metadata": {
        "id": "VMpEUBPuKc6Y"
      }
    },
    {
      "cell_type": "markdown",
      "source": [
        "1. [Pyomo Documentation](https://pyomo.readthedocs.io/en/stable/)\n",
        "2. [CBC Documentation](https://projects.coin-or.org/Cbc)"
      ],
      "metadata": {
        "id": "BW8hxqfLKshC"
      }
    },
    {
      "cell_type": "markdown",
      "source": [
        "## Overview of Pyomo and Solvers"
      ],
      "metadata": {
        "id": "s5nwJznVd8Wa"
      }
    },
    {
      "cell_type": "markdown",
      "source": [
        "Pyomo is a Python-based, open source optimization modeling language.  It supports a variety of solvers that can be used to solve different classifications of optimization models.  \n",
        "\n",
        "We will use the following solvers in this class:\n",
        "\n",
        "* **CBC**: Linear programs and mixed integer linear programs\n",
        "* **Ipopt**: Nonlinear programs (possibly nonconvex)\n",
        "* **Bonmin**: Mixed integer nonlinear programs with convex continuous relaxation\n",
        "* **Couenne**: Mixed integer nonlinear programs\n",
        "\n",
        "The following references provide installation instructions for each of the solvers:\n",
        "\n",
        "1.   [Course Wiki](http://dascwiki.ddns.uark.edu/mediawiki/index.php/DASC_3203:_Optimization_Methods_in_Data_Science)\n",
        "2.   [ND Pyomo Cookbook](https://jckantor.github.io/ND-Pyomo-Cookbook/notebooks/01.02-Running-Pyomo-on-Google-Colab.html)\n"
      ],
      "metadata": {
        "id": "djj-xTbKeOkY"
      }
    },
    {
      "cell_type": "markdown",
      "source": [
        "## Installing Pyomo and CBC"
      ],
      "metadata": {
        "id": "DGvVYbVvfLAb"
      }
    },
    {
      "cell_type": "code",
      "source": [
        "!pip install -q pyomo"
      ],
      "metadata": {
        "id": "KS3UKmKZfQa3"
      },
      "execution_count": null,
      "outputs": []
    },
    {
      "cell_type": "code",
      "source": [
        "!apt-get install -y -qq coinor-cbc"
      ],
      "metadata": {
        "id": "la4-cf-Xi3yD"
      },
      "execution_count": null,
      "outputs": []
    },
    {
      "cell_type": "markdown",
      "source": [
        "## Example 1: Solving a Linear Program Using Pyomo and CBC"
      ],
      "metadata": {
        "id": "Aj3np5k0JLAj"
      }
    },
    {
      "cell_type": "markdown",
      "source": [
        "### Problem Description (Taha, 2003)"
      ],
      "metadata": {
        "id": "GF85KimdZRHf"
      }
    },
    {
      "cell_type": "markdown",
      "source": [
        "Reddy Mikks produces both interior and exterior paints from two raw materials, M1 and M2.  The following table provides the basic data of the problem:\n",
        "\n",
        "\n",
        "| **Raw Material** | Tons raw material per ton of exterior paint   | Tons raw material per ton of interior paint | Daily availability (tons)|\n",
        "|---|---|---|---|\n",
        "| M1 | 6 | 4 | 24 |\n",
        "| M2 | 1 | 2 | 6 |\n",
        "\n",
        "Each ton of exterior paint produced nets a profit of \\$5000 and each ton of interior paint produced nets a profit of \\$4000.  A market survey indicates the daily demand for interior paint cannot exceed that of exterior paint by more than 1 ton.  Also, the maximum daily demand of interior paint is 2 tons.  Reddy Mikks wants to determine the mix of interior and exterior paints that maximizes the total daily profit.\n",
        "\n",
        "\n",
        "\n",
        "\n",
        "\n"
      ],
      "metadata": {
        "id": "HVIqKH8SIglP"
      }
    },
    {
      "cell_type": "markdown",
      "source": [
        "### Linear Programming Formulation"
      ],
      "metadata": {
        "id": "8aG-mv4CZYpU"
      }
    },
    {
      "cell_type": "markdown",
      "source": [
        "**Decision Variables**\n",
        "\n",
        "* $x_1 = $ tons of exterior paint produced daily\n",
        "\n",
        "* $x_2 = $ tons of interior paint produced daily\n",
        "\n",
        "**Model**\n",
        "\n",
        "$\\begin{align}\n",
        "\\max \\  && 5x_1 && + 4x_2 & & \\textrm{(daily profit in \\$1000s)}\\\\\n",
        "\\textrm{s.t.}\\ && 6x_1 && + 4x_2 & \\leq 24 & \\textrm{(daily M1 availability in tons)}\\\\\n",
        "&&   x_1 && + 2x_2 & \\leq 6 & \\textrm{(daily M2 availability in tons)} \\\\\n",
        "&& -x_1 && +x_2 & \\leq 1 & \\textrm{(market survey)}\\\\\n",
        "&& && x_2 & \\leq 2 & \\textrm{(maximum demand of interior paint)}\\\\\n",
        "&& x_1, && x_2 & \\geq 0\n",
        "\\end{align}$\n",
        "\n"
      ],
      "metadata": {
        "id": "uMqKQgjgXo4e"
      }
    },
    {
      "cell_type": "markdown",
      "source": [
        "### Building a *Concrete* Pyomo Model"
      ],
      "metadata": {
        "id": "Hk7bGYfijKAf"
      }
    },
    {
      "cell_type": "markdown",
      "source": [
        "A *Concrete* Pyomo model is a model in which coefficients (i.e., data) are fed to the model as the objective and constraints are defined."
      ],
      "metadata": {
        "id": "wNC4rXqdj1lO"
      }
    },
    {
      "cell_type": "code",
      "execution_count": null,
      "metadata": {
        "id": "fzZVTiBiHyuY"
      },
      "outputs": [],
      "source": [
        "#Import Pyomo and define a concrete model\n",
        "import pyomo.environ as pyo\n",
        "model = pyo.ConcreteModel()\n",
        "\n",
        "#Add variables x[1] and x[2] to model\n",
        "model.x = pyo.Var([1,2], domain=pyo.NonNegativeReals)\n",
        "\n",
        "#Define the objective \"5x[1] + 4x[2]\"\n",
        "model.objective = pyo.Objective(expr= 5*model.x[1] + 4*model.x[2], sense=pyo.maximize)\n",
        "\n",
        "#Define the constraints\n",
        "model.constraint1 = pyo.Constraint(expr = 6*model.x[1] + 4*model.x[2] <= 24)\n",
        "model.constraint2 = pyo.Constraint(expr = model.x[1] + 2*model.x[2] <= 6)\n",
        "model.constraint3 = pyo.Constraint(expr = -model.x[1] + model.x[2] <= 1)\n",
        "model.constraint4 = pyo.Constraint(expr = model.x[2] <= 2)\n"
      ]
    },
    {
      "cell_type": "markdown",
      "source": [
        "### Printing the model"
      ],
      "metadata": {
        "id": "jZIQ62AspXG4"
      }
    },
    {
      "cell_type": "code",
      "source": [
        "model.pprint()"
      ],
      "metadata": {
        "id": "g88_7i7opdlD"
      },
      "execution_count": null,
      "outputs": []
    },
    {
      "cell_type": "markdown",
      "source": [
        "### Solving the concrete model"
      ],
      "metadata": {
        "id": "Xpyh6nITnZW7"
      }
    },
    {
      "cell_type": "code",
      "source": [
        "#Declare the solver as CBC\n",
        "opt = pyo.SolverFactory('cbc')\n",
        "\n",
        "#Solve the model\n",
        "result = opt.solve(model)\n",
        "result.write()"
      ],
      "metadata": {
        "id": "5yo0eS0BnYYU"
      },
      "execution_count": null,
      "outputs": []
    },
    {
      "cell_type": "markdown",
      "source": [
        "### Retrieving the results"
      ],
      "metadata": {
        "id": "pxaX6ZmporA0"
      }
    },
    {
      "cell_type": "code",
      "source": [
        "#Access and print the variable values\n",
        "print(\"x[1] = \", pyo.value(model.x[1]))\n",
        "print(\"x[2] = \", pyo.value(model.x[2]))\n",
        "\n",
        "#Access and print the objective value\n",
        "print(\"Objective Value = \", pyo.value(model.objective))"
      ],
      "metadata": {
        "id": "NDLOqVRfo8RN"
      },
      "execution_count": null,
      "outputs": []
    },
    {
      "cell_type": "code",
      "source": [
        "#Access and print the slack of each constraint\n",
        "#Use \"uslack\" because they were <= constraints\n",
        "#Use \"lslack\" if they are >= constraints\n",
        "print(\"constraint 1 slack = \", pyo.value(model.constraint1.uslack()))\n",
        "print(\"constraint 2 slack = \", pyo.value(model.constraint2.uslack()))\n",
        "print(\"constraint 3 slack = \", pyo.value(model.constraint3.uslack()))\n",
        "print(\"constraint 4 slack = \", pyo.value(model.constraint4.uslack()))"
      ],
      "metadata": {
        "id": "i1VG0FWjqTQS"
      },
      "execution_count": null,
      "outputs": []
    }
  ]
}