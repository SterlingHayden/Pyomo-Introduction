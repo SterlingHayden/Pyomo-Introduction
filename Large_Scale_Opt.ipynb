{
  "nbformat": 4,
  "nbformat_minor": 0,
  "metadata": {
    "colab": {
      "provenance": [],
      "authorship_tag": "ABX9TyMVw13XEu4ag1agNbkl6ent",
      "include_colab_link": true
    },
    "kernelspec": {
      "name": "python3",
      "display_name": "Python 3"
    },
    "language_info": {
      "name": "python"
    }
  },
  "cells": [
    {
      "cell_type": "markdown",
      "metadata": {
        "id": "view-in-github",
        "colab_type": "text"
      },
      "source": [
        "<a href=\"https://colab.research.google.com/github/SterlingHayden/Pyomo-Introduction/blob/main/Large_Scale_Opt.ipynb\" target=\"_parent\"><img src=\"https://colab.research.google.com/assets/colab-badge.svg\" alt=\"Open In Colab\"/></a>"
      ]
    },
    {
      "cell_type": "markdown",
      "source": [
        "HW-03   \n",
        "2/17/2023  \n",
        "Optimizing Linear Models"
      ],
      "metadata": {
        "id": "ZVv3X_vHkdbT"
      }
    },
    {
      "cell_type": "code",
      "source": [
        "!pip install -q pyomo\n",
        "!apt-get install -y -qq coinor-cbc"
      ],
      "metadata": {
        "colab": {
          "base_uri": "https://localhost:8080/"
        },
        "id": "7uLn5MhCmXEN",
        "outputId": "e0e37cee-0ea0-4f8a-bffa-02bc3cd68b0a"
      },
      "execution_count": null,
      "outputs": [
        {
          "output_type": "stream",
          "name": "stdout",
          "text": [
            "\u001b[2K     \u001b[90m━━━━━━━━━━━━━━━━━━━━━━━━━━━━━━━━━━━━━━━━\u001b[0m \u001b[32m11.2/11.2 MB\u001b[0m \u001b[31m70.7 MB/s\u001b[0m eta \u001b[36m0:00:00\u001b[0m\n",
            "\u001b[2K     \u001b[90m━━━━━━━━━━━━━━━━━━━━━━━━━━━━━━━━━━━━━━━━\u001b[0m \u001b[32m49.6/49.6 KB\u001b[0m \u001b[31m3.4 MB/s\u001b[0m eta \u001b[36m0:00:00\u001b[0m\n",
            "\u001b[?25hSelecting previously unselected package coinor-libcoinutils3v5.\n",
            "(Reading database ... 128126 files and directories currently installed.)\n",
            "Preparing to unpack .../0-coinor-libcoinutils3v5_2.11.4+repack1-1_amd64.deb ...\n",
            "Unpacking coinor-libcoinutils3v5 (2.11.4+repack1-1) ...\n",
            "Selecting previously unselected package coinor-libosi1v5.\n",
            "Preparing to unpack .../1-coinor-libosi1v5_0.108.6+repack1-1_amd64.deb ...\n",
            "Unpacking coinor-libosi1v5 (0.108.6+repack1-1) ...\n",
            "Selecting previously unselected package coinor-libclp1.\n",
            "Preparing to unpack .../2-coinor-libclp1_1.17.5+repack1-1_amd64.deb ...\n",
            "Unpacking coinor-libclp1 (1.17.5+repack1-1) ...\n",
            "Selecting previously unselected package coinor-libcgl1.\n",
            "Preparing to unpack .../3-coinor-libcgl1_0.60.3+repack1-2_amd64.deb ...\n",
            "Unpacking coinor-libcgl1 (0.60.3+repack1-2) ...\n",
            "Selecting previously unselected package coinor-libcbc3.\n",
            "Preparing to unpack .../4-coinor-libcbc3_2.10.3+repack1-1build1_amd64.deb ...\n",
            "Unpacking coinor-libcbc3 (2.10.3+repack1-1build1) ...\n",
            "Selecting previously unselected package coinor-cbc.\n",
            "Preparing to unpack .../5-coinor-cbc_2.10.3+repack1-1build1_amd64.deb ...\n",
            "Unpacking coinor-cbc (2.10.3+repack1-1build1) ...\n",
            "Setting up coinor-libcoinutils3v5 (2.11.4+repack1-1) ...\n",
            "Setting up coinor-libosi1v5 (0.108.6+repack1-1) ...\n",
            "Setting up coinor-libclp1 (1.17.5+repack1-1) ...\n",
            "Setting up coinor-libcgl1 (0.60.3+repack1-2) ...\n",
            "Setting up coinor-libcbc3 (2.10.3+repack1-1build1) ...\n",
            "Setting up coinor-cbc (2.10.3+repack1-1build1) ...\n",
            "Processing triggers for man-db (2.9.1-1) ...\n",
            "Processing triggers for libc-bin (2.31-0ubuntu9.9) ...\n"
          ]
        }
      ]
    },
    {
      "cell_type": "markdown",
      "source": [
        "# Question 3"
      ],
      "metadata": {
        "id": "KRwXqG9Hk9D4"
      }
    },
    {
      "cell_type": "code",
      "execution_count": null,
      "metadata": {
        "id": "QAyzRMdLkZXc"
      },
      "outputs": [],
      "source": [
        "#Import Pyomo and define a concrete model\n",
        "import pyomo.environ as pyo\n",
        "model = pyo.ConcreteModel()\n",
        "\n",
        "#Define index sets i and j to model\n",
        "model.I = pyo.Set(initialize=[1,2,3])\n",
        "model.J = pyo.Set(initialize=[1,2,3,4])\n",
        "\n",
        "#Add x and y variables to model\n",
        "model.x = pyo.Var(model.I, model.J, domain=pyo.NonNegativeReals)\n",
        "model.y = pyo.Var(model.J, domain=pyo.NonNegativeReals)\n",
        "\n",
        "#Define the objective\n",
        "model.objective = pyo.Objective(expr= ( (3*2000*model.x[1,1]) + (2*2100*model.x[1,2]) + (3*2400*model.x[1,3]) + (1*2900*model.x[1,4]) +\n",
        "                                       (4*1500*model.x[2,1]) + (4*1900*model.x[2,2]) + (3*2000*model.x[2,3]) + (2*2400*model.x[2,4]) +\n",
        "                                       (5*1300*model.x[3,1]) + (5*1500*model.x[3,2]) + (4*1700*model.x[3,3]) + (2*2100*model.x[3,4]) +\n",
        "                                       (250*model.y[1]) + (290*model.y[2]) + (305*model.y[3]) + (390*model.y[4]) ), sense=pyo.minimize )\n",
        "\n",
        "#Define the constraints\n",
        "model.constraint1 = pyo.Constraint(expr = model.x[1,1] + model.x[1,2] + model.x[1,3] + model.x[1,4] <= 5)\n",
        "model.constraint2 = pyo.Constraint(expr = model.x[2,1] + model.x[2,2] + model.x[2,3] + model.x[2,4] <= 8)\n",
        "model.constraint3 = pyo.Constraint(expr = model.x[3,1] + model.x[3,2] + model.x[3,3] + model.x[3,4] <= 10)\n",
        "model.constraint4 = pyo.Constraint(expr = ( ( model.y[1] + (50*3*model.x[1,1]) + (30*4*model.x[2,1]) + (20*5*model.x[3,1]) ) >= 1200) )\n",
        "model.constraint5 = pyo.Constraint(expr = (( model.y[2] + (50*2*model.x[1,2]) + (30*4*model.x[2,2]) + (20*5*model.x[3,2]) ) >= 1900) )\n",
        "model.constraint6 = pyo.Constraint(expr = (( model.y[3] + (50*3*model.x[1,3]) + (30*3*model.x[2,3]) + (20*4*model.x[3,3]) ) >= 800) )\n",
        "model.constraint7 = pyo.Constraint(expr = (( model.y[4] + (50*1*model.x[1,4]) + (30*2*model.x[2,4]) + (20*2*model.x[3,4]) ) >= 1300) )"
      ]
    },
    {
      "cell_type": "code",
      "source": [
        "model.pprint()"
      ],
      "metadata": {
        "colab": {
          "base_uri": "https://localhost:8080/"
        },
        "id": "5wvTCNdrdqrD",
        "outputId": "516da1e6-0ebc-4fb6-92fe-0c47cd0a9313"
      },
      "execution_count": null,
      "outputs": [
        {
          "output_type": "stream",
          "name": "stdout",
          "text": [
            "3 Set Declarations\n",
            "    I : Size=1, Index=None, Ordered=Insertion\n",
            "        Key  : Dimen : Domain : Size : Members\n",
            "        None :     1 :    Any :    3 : {1, 2, 3}\n",
            "    J : Size=1, Index=None, Ordered=Insertion\n",
            "        Key  : Dimen : Domain : Size : Members\n",
            "        None :     1 :    Any :    4 : {1, 2, 3, 4}\n",
            "    x_index : Size=1, Index=None, Ordered=True\n",
            "        Key  : Dimen : Domain : Size : Members\n",
            "        None :     2 :    I*J :   12 : {(1, 1), (1, 2), (1, 3), (1, 4), (2, 1), (2, 2), (2, 3), (2, 4), (3, 1), (3, 2), (3, 3), (3, 4)}\n",
            "\n",
            "2 Var Declarations\n",
            "    x : Size=12, Index=x_index\n",
            "        Key    : Lower : Value : Upper : Fixed : Stale : Domain\n",
            "        (1, 1) :     0 :  None :  None : False :  True : NonNegativeReals\n",
            "        (1, 2) :     0 :  None :  None : False :  True : NonNegativeReals\n",
            "        (1, 3) :     0 :  None :  None : False :  True : NonNegativeReals\n",
            "        (1, 4) :     0 :  None :  None : False :  True : NonNegativeReals\n",
            "        (2, 1) :     0 :  None :  None : False :  True : NonNegativeReals\n",
            "        (2, 2) :     0 :  None :  None : False :  True : NonNegativeReals\n",
            "        (2, 3) :     0 :  None :  None : False :  True : NonNegativeReals\n",
            "        (2, 4) :     0 :  None :  None : False :  True : NonNegativeReals\n",
            "        (3, 1) :     0 :  None :  None : False :  True : NonNegativeReals\n",
            "        (3, 2) :     0 :  None :  None : False :  True : NonNegativeReals\n",
            "        (3, 3) :     0 :  None :  None : False :  True : NonNegativeReals\n",
            "        (3, 4) :     0 :  None :  None : False :  True : NonNegativeReals\n",
            "    y : Size=4, Index=J\n",
            "        Key : Lower : Value : Upper : Fixed : Stale : Domain\n",
            "          1 :     0 :  None :  None : False :  True : NonNegativeReals\n",
            "          2 :     0 :  None :  None : False :  True : NonNegativeReals\n",
            "          3 :     0 :  None :  None : False :  True : NonNegativeReals\n",
            "          4 :     0 :  None :  None : False :  True : NonNegativeReals\n",
            "\n",
            "1 Objective Declarations\n",
            "    objective : Size=1, Index=None, Active=True\n",
            "        Key  : Active : Sense    : Expression\n",
            "        None :   True : minimize : 6000*x[1,1] + 4200*x[1,2] + 7200*x[1,3] + 2900*x[1,4] + 6000*x[2,1] + 7600*x[2,2] + 6000*x[2,3] + 4800*x[2,4] + 6500*x[3,1] + 7500*x[3,2] + 6800*x[3,3] + 4200*x[3,4] + 250*y[1] + 290*y[2] + 305*y[3] + 390*y[4]\n",
            "\n",
            "7 Constraint Declarations\n",
            "    constraint1 : Size=1, Index=None, Active=True\n",
            "        Key  : Lower : Body                              : Upper : Active\n",
            "        None :  -Inf : x[1,1] + x[1,2] + x[1,3] + x[1,4] :   5.0 :   True\n",
            "    constraint2 : Size=1, Index=None, Active=True\n",
            "        Key  : Lower : Body                              : Upper : Active\n",
            "        None :  -Inf : x[2,1] + x[2,2] + x[2,3] + x[2,4] :   8.0 :   True\n",
            "    constraint3 : Size=1, Index=None, Active=True\n",
            "        Key  : Lower : Body                              : Upper : Active\n",
            "        None :  -Inf : x[3,1] + x[3,2] + x[3,3] + x[3,4] :  10.0 :   True\n",
            "    constraint4 : Size=1, Index=None, Active=True\n",
            "        Key  : Lower  : Body                                        : Upper : Active\n",
            "        None : 1200.0 : y[1] + 150*x[1,1] + 120*x[2,1] + 100*x[3,1] :  +Inf :   True\n",
            "    constraint5 : Size=1, Index=None, Active=True\n",
            "        Key  : Lower  : Body                                        : Upper : Active\n",
            "        None : 1900.0 : y[2] + 100*x[1,2] + 120*x[2,2] + 100*x[3,2] :  +Inf :   True\n",
            "    constraint6 : Size=1, Index=None, Active=True\n",
            "        Key  : Lower : Body                                      : Upper : Active\n",
            "        None : 800.0 : y[3] + 150*x[1,3] + 90*x[2,3] + 80*x[3,3] :  +Inf :   True\n",
            "    constraint7 : Size=1, Index=None, Active=True\n",
            "        Key  : Lower  : Body                                     : Upper : Active\n",
            "        None : 1300.0 : y[4] + 50*x[1,4] + 60*x[2,4] + 40*x[3,4] :  +Inf :   True\n",
            "\n",
            "13 Declarations: I J x_index x y objective constraint1 constraint2 constraint3 constraint4 constraint5 constraint6 constraint7\n"
          ]
        }
      ]
    },
    {
      "cell_type": "code",
      "source": [
        "#Declare the solver as CBC\n",
        "opt = pyo.SolverFactory('cbc')\n",
        "\n",
        "#Solve the model\n",
        "opt.solve(model).write()"
      ],
      "metadata": {
        "colab": {
          "base_uri": "https://localhost:8080/"
        },
        "id": "n-pwO9_6d9Jb",
        "outputId": "0f099cfc-fda4-49c0-c668-dc5c3bf64433"
      },
      "execution_count": null,
      "outputs": [
        {
          "output_type": "stream",
          "name": "stdout",
          "text": [
            "# ==========================================================\n",
            "# = Solver Results                                         =\n",
            "# ==========================================================\n",
            "# ----------------------------------------------------------\n",
            "#   Problem Information\n",
            "# ----------------------------------------------------------\n",
            "Problem: \n",
            "- Name: unknown\n",
            "  Lower bound: 978250.0\n",
            "  Upper bound: 978250.0\n",
            "  Number of objectives: 1\n",
            "  Number of constraints: 8\n",
            "  Number of variables: 17\n",
            "  Number of nonzeros: 16\n",
            "  Sense: minimize\n",
            "# ----------------------------------------------------------\n",
            "#   Solver Information\n",
            "# ----------------------------------------------------------\n",
            "Solver: \n",
            "- Status: ok\n",
            "  User time: -1.0\n",
            "  System time: 0.0\n",
            "  Wallclock time: 0.0\n",
            "  Termination condition: optimal\n",
            "  Termination message: Model was solved to optimality (subject to tolerances), and an optimal solution is available.\n",
            "  Statistics: \n",
            "    Branch and bound: \n",
            "      Number of bounded subproblems: None\n",
            "      Number of created subproblems: None\n",
            "    Black box: \n",
            "      Number of iterations: 12\n",
            "  Error rc: 0\n",
            "  Time: 0.04102444648742676\n",
            "# ----------------------------------------------------------\n",
            "#   Solution Information\n",
            "# ----------------------------------------------------------\n",
            "Solution: \n",
            "- number of solutions: 0\n",
            "  number of solutions displayed: 0\n"
          ]
        }
      ]
    },
    {
      "cell_type": "code",
      "source": [
        "#Access the variable values using pprint\n",
        "model.x.pprint()"
      ],
      "metadata": {
        "colab": {
          "base_uri": "https://localhost:8080/"
        },
        "id": "TlQj2LUyeCe7",
        "outputId": "749445ac-cb20-4bc9-d0c8-9be67e17096b"
      },
      "execution_count": null,
      "outputs": [
        {
          "output_type": "stream",
          "name": "stdout",
          "text": [
            "x : Size=12, Index=x_index\n",
            "    Key    : Lower : Value : Upper : Fixed : Stale : Domain\n",
            "    (1, 1) :     0 :   0.0 :  None : False : False : NonNegativeReals\n",
            "    (1, 2) :     0 :   0.0 :  None : False : False : NonNegativeReals\n",
            "    (1, 3) :     0 :   5.0 :  None : False : False : NonNegativeReals\n",
            "    (1, 4) :     0 :   0.0 :  None : False : False : NonNegativeReals\n",
            "    (2, 1) :     0 :   0.5 :  None : False : False : NonNegativeReals\n",
            "    (2, 2) :     0 :   7.5 :  None : False : False : NonNegativeReals\n",
            "    (2, 3) :     0 :   0.0 :  None : False : False : NonNegativeReals\n",
            "    (2, 4) :     0 :   0.0 :  None : False : False : NonNegativeReals\n",
            "    (3, 1) :     0 :   0.0 :  None : False : False : NonNegativeReals\n",
            "    (3, 2) :     0 :  10.0 :  None : False : False : NonNegativeReals\n",
            "    (3, 3) :     0 :   0.0 :  None : False : False : NonNegativeReals\n",
            "    (3, 4) :     0 :   0.0 :  None : False : False : NonNegativeReals\n"
          ]
        }
      ]
    },
    {
      "cell_type": "markdown",
      "source": [
        "# Question 5"
      ],
      "metadata": {
        "id": "yo8eeV8LlJxR"
      }
    },
    {
      "cell_type": "code",
      "source": [
        "model.clear()"
      ],
      "metadata": {
        "id": "4b34qzK7gkj7"
      },
      "execution_count": null,
      "outputs": []
    },
    {
      "cell_type": "code",
      "source": [
        "#Import Pyomo and define a concrete model\n",
        "import pyomo.environ as pyo\n",
        "model = pyo.ConcreteModel()\n",
        "\n",
        "#Define index sets i and j to model\n",
        "model.I = pyo.Set(initialize=[1,2,5])\n",
        "model.J = pyo.Set(initialize=[3,4,5,6])\n",
        "\n",
        "#Add x and y variables to model\n",
        "model.x = pyo.Var(model.I, model.J, domain=pyo.NonNegativeReals)\n",
        "\n",
        "#Define the objective\n",
        "model.objective = pyo.Objective(expr=( 37*model.x[1,3] + 30*model.x[1,5] + 39*model.x[2,4] + 32*model.x[2,5] + 2*model.x[5,3] + 4*model.x[5,4] ), sense=pyo.minimize )\n",
        "\n",
        "#Define the constraints\n",
        "model.constraint1 = pyo.Constraint(expr = (model.x[1,3] + model.x[1,5] + model.x[1,6]) == 100)\n",
        "model.constraint2 = pyo.Constraint(expr = (model.x[2,4] + model.x[2,5] + model.x[2,6]) == 70)\n",
        "model.constraint3 = pyo.Constraint(expr = -(model.x[1,3] + model.x[5,3]) == -60)\n",
        "model.constraint4 = pyo.Constraint(expr = -(model.x[2,4] + model.x[5,4]) == -90)\n",
        "model.constraint5 = pyo.Constraint(expr = ( (model.x[5,3] + model.x[5,4]) - (model.x[1,5] + model.x[2,5]) )== 0)\n",
        "model.constraint6 = pyo.Constraint(expr = -(model.x[1,6] + model.x[2,6]) == -20)\n",
        "model.constraint7 = pyo.Constraint(expr = model.x[1,6] <= 100)\n",
        "model.constraint8 = pyo.Constraint(expr = model.x[2,6] <= 70)\n",
        "model.constraint9 = pyo.Constraint(expr = model.x[5,3] <= 50)\n",
        "model.constraint10 = pyo.Constraint(expr = model.x[5,4] <= 50)\n",
        "model.constraint11 = pyo.Constraint(expr = model.x[1,5] <= 50)\n",
        "model.constraint12 = pyo.Constraint(expr = model.x[2,5] <= 50)\n"
      ],
      "metadata": {
        "id": "DecYIdUWl3TD"
      },
      "execution_count": null,
      "outputs": []
    },
    {
      "cell_type": "code",
      "source": [
        "model.pprint()"
      ],
      "metadata": {
        "colab": {
          "base_uri": "https://localhost:8080/"
        },
        "id": "P4aK7MnnnwIi",
        "outputId": "134d8e24-e34f-4307-8a93-aecf0b41d82e"
      },
      "execution_count": null,
      "outputs": [
        {
          "output_type": "stream",
          "name": "stdout",
          "text": [
            "3 Set Declarations\n",
            "    I : Size=1, Index=None, Ordered=Insertion\n",
            "        Key  : Dimen : Domain : Size : Members\n",
            "        None :     1 :    Any :    3 : {1, 2, 5}\n",
            "    J : Size=1, Index=None, Ordered=Insertion\n",
            "        Key  : Dimen : Domain : Size : Members\n",
            "        None :     1 :    Any :    4 : {3, 4, 5, 6}\n",
            "    x_index : Size=1, Index=None, Ordered=True\n",
            "        Key  : Dimen : Domain : Size : Members\n",
            "        None :     2 :    I*J :   12 : {(1, 3), (1, 4), (1, 5), (1, 6), (2, 3), (2, 4), (2, 5), (2, 6), (5, 3), (5, 4), (5, 5), (5, 6)}\n",
            "\n",
            "2 Var Declarations\n",
            "    x : Size=12, Index=x_index\n",
            "        Key    : Lower : Value : Upper : Fixed : Stale : Domain\n",
            "        (1, 3) :     0 :  None :  None : False :  True : NonNegativeReals\n",
            "        (1, 4) :     0 :  None :  None : False :  True : NonNegativeReals\n",
            "        (1, 5) :     0 :  None :  None : False :  True : NonNegativeReals\n",
            "        (1, 6) :     0 :  None :  None : False :  True : NonNegativeReals\n",
            "        (2, 3) :     0 :  None :  None : False :  True : NonNegativeReals\n",
            "        (2, 4) :     0 :  None :  None : False :  True : NonNegativeReals\n",
            "        (2, 5) :     0 :  None :  None : False :  True : NonNegativeReals\n",
            "        (2, 6) :     0 :  None :  None : False :  True : NonNegativeReals\n",
            "        (5, 3) :     0 :  None :  None : False :  True : NonNegativeReals\n",
            "        (5, 4) :     0 :  None :  None : False :  True : NonNegativeReals\n",
            "        (5, 5) :     0 :  None :  None : False :  True : NonNegativeReals\n",
            "        (5, 6) :     0 :  None :  None : False :  True : NonNegativeReals\n",
            "    y : Size=4, Index=J\n",
            "        Key : Lower : Value : Upper : Fixed : Stale : Domain\n",
            "          3 :     0 :  None :  None : False :  True : NonNegativeReals\n",
            "          4 :     0 :  None :  None : False :  True : NonNegativeReals\n",
            "          5 :     0 :  None :  None : False :  True : NonNegativeReals\n",
            "          6 :     0 :  None :  None : False :  True : NonNegativeReals\n",
            "\n",
            "1 Objective Declarations\n",
            "    objective : Size=1, Index=None, Active=True\n",
            "        Key  : Active : Sense    : Expression\n",
            "        None :   True : minimize : 37*x[1,3] + 30*x[1,5] + 39*x[2,4] + 32*x[2,5] + 2*x[5,3] + 4*x[5,4]\n",
            "\n",
            "12 Constraint Declarations\n",
            "    constraint1 : Size=1, Index=None, Active=True\n",
            "        Key  : Lower : Body                     : Upper : Active\n",
            "        None : 100.0 : x[1,3] + x[1,5] + x[1,6] : 100.0 :   True\n",
            "    constraint10 : Size=1, Index=None, Active=True\n",
            "        Key  : Lower : Body   : Upper : Active\n",
            "        None :  -Inf : x[5,4] :  50.0 :   True\n",
            "    constraint11 : Size=1, Index=None, Active=True\n",
            "        Key  : Lower : Body   : Upper : Active\n",
            "        None :  -Inf : x[1,5] :  50.0 :   True\n",
            "    constraint12 : Size=1, Index=None, Active=True\n",
            "        Key  : Lower : Body   : Upper : Active\n",
            "        None :  -Inf : x[2,5] :  50.0 :   True\n",
            "    constraint2 : Size=1, Index=None, Active=True\n",
            "        Key  : Lower : Body                     : Upper : Active\n",
            "        None :  70.0 : x[2,4] + x[2,5] + x[2,6] :  70.0 :   True\n",
            "    constraint3 : Size=1, Index=None, Active=True\n",
            "        Key  : Lower : Body                : Upper : Active\n",
            "        None : -60.0 : - (x[1,3] + x[5,3]) : -60.0 :   True\n",
            "    constraint4 : Size=1, Index=None, Active=True\n",
            "        Key  : Lower : Body                : Upper : Active\n",
            "        None : -90.0 : - (x[2,4] + x[5,4]) : -90.0 :   True\n",
            "    constraint5 : Size=1, Index=None, Active=True\n",
            "        Key  : Lower : Body                                : Upper : Active\n",
            "        None :   0.0 : x[5,3] + x[5,4] - (x[1,5] + x[2,5]) :   0.0 :   True\n",
            "    constraint6 : Size=1, Index=None, Active=True\n",
            "        Key  : Lower : Body                : Upper : Active\n",
            "        None : -20.0 : - (x[1,6] + x[2,6]) : -20.0 :   True\n",
            "    constraint7 : Size=1, Index=None, Active=True\n",
            "        Key  : Lower : Body   : Upper : Active\n",
            "        None :  -Inf : x[1,6] : 100.0 :   True\n",
            "    constraint8 : Size=1, Index=None, Active=True\n",
            "        Key  : Lower : Body   : Upper : Active\n",
            "        None :  -Inf : x[2,6] :  70.0 :   True\n",
            "    constraint9 : Size=1, Index=None, Active=True\n",
            "        Key  : Lower : Body   : Upper : Active\n",
            "        None :  -Inf : x[5,3] :  50.0 :   True\n",
            "\n",
            "18 Declarations: I J x_index x y objective constraint1 constraint2 constraint3 constraint4 constraint5 constraint6 constraint7 constraint8 constraint9 constraint10 constraint11 constraint12\n"
          ]
        }
      ]
    },
    {
      "cell_type": "code",
      "source": [
        "#Declare the solver as CBC\n",
        "opt = pyo.SolverFactory('cbc')\n",
        "\n",
        "#Solve the model\n",
        "opt.solve(model).write()"
      ],
      "metadata": {
        "colab": {
          "base_uri": "https://localhost:8080/"
        },
        "id": "lrkgHfACoBYc",
        "outputId": "2d6b63db-889b-477a-99f9-45bf44808b22"
      },
      "execution_count": null,
      "outputs": [
        {
          "output_type": "stream",
          "name": "stdout",
          "text": [
            "# ==========================================================\n",
            "# = Solver Results                                         =\n",
            "# ==========================================================\n",
            "# ----------------------------------------------------------\n",
            "#   Problem Information\n",
            "# ----------------------------------------------------------\n",
            "Problem: \n",
            "- Name: unknown\n",
            "  Lower bound: 5390.0\n",
            "  Upper bound: 5390.0\n",
            "  Number of objectives: 1\n",
            "  Number of constraints: 13\n",
            "  Number of variables: 9\n",
            "  Number of nonzeros: 4\n",
            "  Sense: minimize\n",
            "# ----------------------------------------------------------\n",
            "#   Solver Information\n",
            "# ----------------------------------------------------------\n",
            "Solver: \n",
            "- Status: ok\n",
            "  User time: -1.0\n",
            "  System time: 0.0\n",
            "  Wallclock time: 0.01\n",
            "  Termination condition: optimal\n",
            "  Termination message: Model was solved to optimality (subject to tolerances), and an optimal solution is available.\n",
            "  Statistics: \n",
            "    Branch and bound: \n",
            "      Number of bounded subproblems: None\n",
            "      Number of created subproblems: None\n",
            "    Black box: \n",
            "      Number of iterations: 3\n",
            "  Error rc: 0\n",
            "  Time: 0.032453298568725586\n",
            "# ----------------------------------------------------------\n",
            "#   Solution Information\n",
            "# ----------------------------------------------------------\n",
            "Solution: \n",
            "- number of solutions: 0\n",
            "  number of solutions displayed: 0\n"
          ]
        }
      ]
    },
    {
      "cell_type": "code",
      "source": [
        "model.x.pprint()"
      ],
      "metadata": {
        "colab": {
          "base_uri": "https://localhost:8080/"
        },
        "id": "He2ii5YioHBv",
        "outputId": "6d50bf5c-cca1-437b-c05a-6f931f4b8736"
      },
      "execution_count": null,
      "outputs": [
        {
          "output_type": "stream",
          "name": "stdout",
          "text": [
            "x : Size=12, Index=x_index\n",
            "    Key    : Lower : Value : Upper : Fixed : Stale : Domain\n",
            "    (1, 3) :     0 :  30.0 :  None : False : False : NonNegativeReals\n",
            "    (1, 4) :     0 :  None :  None : False :  True : NonNegativeReals\n",
            "    (1, 5) :     0 :  50.0 :  None : False : False : NonNegativeReals\n",
            "    (1, 6) :     0 :  20.0 :  None : False : False : NonNegativeReals\n",
            "    (2, 3) :     0 :  None :  None : False :  True : NonNegativeReals\n",
            "    (2, 4) :     0 :  40.0 :  None : False : False : NonNegativeReals\n",
            "    (2, 5) :     0 :  30.0 :  None : False : False : NonNegativeReals\n",
            "    (2, 6) :     0 :   0.0 :  None : False : False : NonNegativeReals\n",
            "    (5, 3) :     0 :  30.0 :  None : False : False : NonNegativeReals\n",
            "    (5, 4) :     0 :  50.0 :  None : False : False : NonNegativeReals\n",
            "    (5, 5) :     0 :  None :  None : False :  True : NonNegativeReals\n",
            "    (5, 6) :     0 :  None :  None : False :  True : NonNegativeReals\n"
          ]
        }
      ]
    }
  ]
}