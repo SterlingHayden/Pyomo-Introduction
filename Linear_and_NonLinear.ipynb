{
  "nbformat": 4,
  "nbformat_minor": 0,
  "metadata": {
    "colab": {
      "provenance": [],
      "collapsed_sections": [
        "8EhNOmJqkLtx",
        "JaA_m2eTko4q",
        "CSkFjdh2krnz",
        "QzXZ4TfVktgg",
        "OnXwwDNzw3k4",
        "DvzEgmRnvQ7G",
        "BiTlHTrEoCWU"
      ],
      "authorship_tag": "ABX9TyN4HCDrf3OFY3Z6IBIX+6Zs",
      "include_colab_link": true
    },
    "kernelspec": {
      "name": "python3",
      "display_name": "Python 3"
    },
    "language_info": {
      "name": "python"
    }
  },
  "cells": [
    {
      "cell_type": "markdown",
      "metadata": {
        "id": "view-in-github",
        "colab_type": "text"
      },
      "source": [
        "<a href=\"https://colab.research.google.com/github/SterlingHayden/Pyomo-Introduction/blob/main/Linear_and_NonLinear.ipynb\" target=\"_parent\"><img src=\"https://colab.research.google.com/assets/colab-badge.svg\" alt=\"Open In Colab\"/></a>"
      ]
    },
    {
      "cell_type": "markdown",
      "source": [
        "#Problem 1  \n",
        "Linear & Non-Integer"
      ],
      "metadata": {
        "id": "8EhNOmJqkLtx"
      }
    },
    {
      "cell_type": "code",
      "execution_count": null,
      "metadata": {
        "id": "P0dSFCLGj8TO"
      },
      "outputs": [],
      "source": [
        "!pip install -q pyomo\n",
        "!apt-get install -y -qq coinor-cbc"
      ]
    },
    {
      "cell_type": "code",
      "source": [
        "#Import Pyomo and define a concrete model_1\n",
        "import pyomo.environ as pyo\n",
        "model_1 = pyo.ConcreteModel()\n",
        "\n",
        "#Add variables x[1] and x[2] to model_1\n",
        "model_1.x = pyo.Var([1,2,3], domain=pyo.NonNegativeReals)\n",
        "\n",
        "#Define the objective\n",
        "model_1.objective = pyo.Objective(expr= -4*model_1.x[1] + 2*model_1.x[2] + 5*model_1.x[3], sense=pyo.minimize)\n",
        "\n",
        "#Define the constraints\n",
        "model_1.constraint1 = pyo.Constraint(expr = -3*model_1.x[1] + model_1.x[2] + model_1.x[3] == 2)\n",
        "model_1.constraint2 = pyo.Constraint(expr = 4*model_1.x[1] - 3*model_1.x[2] <= 1)\n",
        "model_1.constraint3 = pyo.Constraint(expr = model_1.x[1] + model_1.x[2] >= 4)"
      ],
      "metadata": {
        "id": "F06a3V0Wlpnx"
      },
      "execution_count": null,
      "outputs": []
    },
    {
      "cell_type": "code",
      "source": [
        "model_1.pprint()"
      ],
      "metadata": {
        "colab": {
          "base_uri": "https://localhost:8080/"
        },
        "id": "s0gIHSGHm8W0",
        "outputId": "50ab17df-cb66-4979-ab96-68347039e1f7"
      },
      "execution_count": null,
      "outputs": [
        {
          "output_type": "stream",
          "name": "stdout",
          "text": [
            "1 Set Declarations\n",
            "    x_index : Size=1, Index=None, Ordered=Insertion\n",
            "        Key  : Dimen : Domain : Size : Members\n",
            "        None :     1 :    Any :    3 : {1, 2, 3}\n",
            "\n",
            "1 Var Declarations\n",
            "    x : Size=3, Index=x_index\n",
            "        Key : Lower : Value : Upper : Fixed : Stale : Domain\n",
            "          1 :     0 :  None :  None : False :  True : NonNegativeReals\n",
            "          2 :     0 :  None :  None : False :  True : NonNegativeReals\n",
            "          3 :     0 :  None :  None : False :  True : NonNegativeReals\n",
            "\n",
            "1 Objective Declarations\n",
            "    objective : Size=1, Index=None, Active=True\n",
            "        Key  : Active : Sense    : Expression\n",
            "        None :   True : minimize : -4*x[1] + 2*x[2] + 5*x[3]\n",
            "\n",
            "3 Constraint Declarations\n",
            "    constraint1 : Size=1, Index=None, Active=True\n",
            "        Key  : Lower : Body                  : Upper : Active\n",
            "        None :   2.0 : -3*x[1] + x[2] + x[3] :   2.0 :   True\n",
            "    constraint2 : Size=1, Index=None, Active=True\n",
            "        Key  : Lower : Body            : Upper : Active\n",
            "        None :  -Inf : 4*x[1] - 3*x[2] :   1.0 :   True\n",
            "    constraint3 : Size=1, Index=None, Active=True\n",
            "        Key  : Lower : Body        : Upper : Active\n",
            "        None :   4.0 : x[1] + x[2] :  +Inf :   True\n",
            "\n",
            "6 Declarations: x_index x objective constraint1 constraint2 constraint3\n"
          ]
        }
      ]
    },
    {
      "cell_type": "code",
      "source": [
        "#Declare the solver as CBC\n",
        "opt = pyo.SolverFactory('cbc')\n",
        "\n",
        "#Solve the model_1\n",
        "result = opt.solve(model_1)\n",
        "result.write()"
      ],
      "metadata": {
        "colab": {
          "base_uri": "https://localhost:8080/"
        },
        "id": "wm3od4aNnTGU",
        "outputId": "73cf77d0-730e-40e8-8a0e-c7fea348302e"
      },
      "execution_count": null,
      "outputs": [
        {
          "output_type": "stream",
          "name": "stdout",
          "text": [
            "# ==========================================================\n",
            "# = Solver Results                                         =\n",
            "# ==========================================================\n",
            "# ----------------------------------------------------------\n",
            "#   Problem Information\n",
            "# ----------------------------------------------------------\n",
            "Problem: \n",
            "- Name: unknown\n",
            "  Lower bound: 5.0\n",
            "  Upper bound: 5.0\n",
            "  Number of objectives: 1\n",
            "  Number of constraints: 4\n",
            "  Number of variables: 4\n",
            "  Number of nonzeros: 3\n",
            "  Sense: minimize\n",
            "# ----------------------------------------------------------\n",
            "#   Solver Information\n",
            "# ----------------------------------------------------------\n",
            "Solver: \n",
            "- Status: ok\n",
            "  User time: -1.0\n",
            "  System time: 0.0\n",
            "  Wallclock time: 0.0\n",
            "  Termination condition: optimal\n",
            "  Termination message: Model was solved to optimality (subject to tolerances), and an optimal solution is available.\n",
            "  Statistics: \n",
            "    Branch and bound: \n",
            "      Number of bounded subproblems: None\n",
            "      Number of created subproblems: None\n",
            "    Black box: \n",
            "      Number of iterations: 2\n",
            "  Error rc: 0\n",
            "  Time: 0.02435755729675293\n",
            "# ----------------------------------------------------------\n",
            "#   Solution Information\n",
            "# ----------------------------------------------------------\n",
            "Solution: \n",
            "- number of solutions: 0\n",
            "  number of solutions displayed: 0\n"
          ]
        }
      ]
    },
    {
      "cell_type": "markdown",
      "source": [
        "**Optimal solution found.**\n",
        "\n",
        "\n"
      ],
      "metadata": {
        "id": "lJw4Aqq8o1Kj"
      }
    },
    {
      "cell_type": "code",
      "source": [
        "#Access and print the variable values\n",
        "print(\"x[1] = \", pyo.value(model_1.x[1]))\n",
        "print(\"x[2] = \", pyo.value(model_1.x[2]))\n",
        "print(\"x[3] = \", pyo.value(model_1.x[3]))\n",
        "\n",
        "#Access and print the objective value\n",
        "print(\"Objective Value = \", pyo.value(model_1.objective))"
      ],
      "metadata": {
        "colab": {
          "base_uri": "https://localhost:8080/"
        },
        "id": "Du7nQiVrnTS9",
        "outputId": "7e9c26ba-4d03-46c9-ff8f-9201cd47633d"
      },
      "execution_count": null,
      "outputs": [
        {
          "output_type": "stream",
          "name": "stdout",
          "text": [
            "x[1] =  0.5\n",
            "x[2] =  3.5\n",
            "x[3] =  0.0\n",
            "Objective Value =  5.0\n"
          ]
        }
      ]
    },
    {
      "cell_type": "code",
      "source": [
        "#Access and print the slack of each constraint\n",
        "#Use \"uslack\" because they were <= constraints\n",
        "#Use \"lslack\" if they are >= constraints\n",
        "print(\"constraint 1 slack = \", pyo.value(model_1.constraint1.uslack()))\n",
        "print(\"constraint 2 slack = \", pyo.value(model_1.constraint2.uslack()))\n",
        "print(\"constraint 3 slack = \", pyo.value(model_1.constraint3.lslack()))"
      ],
      "metadata": {
        "colab": {
          "base_uri": "https://localhost:8080/"
        },
        "id": "ZVeeVofAn0lS",
        "outputId": "0fd97658-7ee4-46bf-f831-79feab070732"
      },
      "execution_count": null,
      "outputs": [
        {
          "output_type": "stream",
          "name": "stdout",
          "text": [
            "constraint 1 slack =  0.0\n",
            "constraint 2 slack =  9.5\n",
            "constraint 3 slack =  0.0\n"
          ]
        }
      ]
    },
    {
      "cell_type": "markdown",
      "source": [
        "#Problem 2  \n",
        "Linear & Integer"
      ],
      "metadata": {
        "id": "JaA_m2eTko4q"
      }
    },
    {
      "cell_type": "code",
      "source": [
        "#Import Pyomo and define a concrete model\n",
        "import pyomo.environ as pyo\n",
        "model_2 = pyo.ConcreteModel()\n",
        "\n",
        "#Add variables x[1] and x[2] to model\n",
        "model_2.x = pyo.Var([1,2,3], domain = pyo.Reals)\n",
        "model_2.y = pyo.Var([1,2,3], domain = pyo.Binary)\n",
        "\n",
        "#Define the objective\n",
        "model_2.objective = pyo.Objective(expr= model_2.x[1] + model_2.x[2] + model_2.x[3] - 40*model_2.y[1] - 50*model_2.y[2] - 10*model_2.y[3] , sense=pyo.maximize)\n",
        "\n",
        "#Define the constraints\n",
        "model_2.constraint1 = pyo.Constraint(expr = 2*model_2.x[1] + model_2.x[2] + 3*model_2.x[3] <= 70)\n",
        "model_2.constraint2 = pyo.Constraint(expr = -model_2.x[1] + 5*model_2.x[2] + 2*model_2.x[3] <= 100)\n",
        "model_2.constraint3 = pyo.Constraint(expr = -model_2.x[1] + -2*model_2.x[2] + 6*model_2.x[3] <= 90)\n",
        "\n",
        "model_2.constraint4 = pyo.Constraint(expr = model_2.x[1] >= -100 * model_2.y[1])\n",
        "model_2.constraint5 = pyo.Constraint(expr = model_2.x[1] <= 100 * model_2.y[1])\n",
        "\n",
        "model_2.constraint6 = pyo.Constraint(expr = model_2.x[2] >= -80 * model_2.y[2])\n",
        "model_2.constraint7 = pyo.Constraint(expr = model_2.x[2] <= 80 * model_2.y[2])\n",
        "\n",
        "model_2.constraint8 = pyo.Constraint(expr = model_2.x[3] >= -60 * model_2.y[3])\n",
        "model_2.constraint9 = pyo.Constraint(expr = model_2.x[3] <= 60 * model_2.y[3])"
      ],
      "metadata": {
        "id": "6LoMhrJLGNwV"
      },
      "execution_count": null,
      "outputs": []
    },
    {
      "cell_type": "code",
      "source": [
        "model_2.pprint()"
      ],
      "metadata": {
        "id": "3wLSwNkxGSqX",
        "colab": {
          "base_uri": "https://localhost:8080/"
        },
        "outputId": "2bba7e80-2b47-4ee5-f760-cbb2637385e9"
      },
      "execution_count": null,
      "outputs": [
        {
          "output_type": "stream",
          "name": "stdout",
          "text": [
            "2 Set Declarations\n",
            "    x_index : Size=1, Index=None, Ordered=Insertion\n",
            "        Key  : Dimen : Domain : Size : Members\n",
            "        None :     1 :    Any :    3 : {1, 2, 3}\n",
            "    y_index : Size=1, Index=None, Ordered=Insertion\n",
            "        Key  : Dimen : Domain : Size : Members\n",
            "        None :     1 :    Any :    3 : {1, 2, 3}\n",
            "\n",
            "2 Var Declarations\n",
            "    x : Size=3, Index=x_index\n",
            "        Key : Lower : Value : Upper : Fixed : Stale : Domain\n",
            "          1 :  None :  None :  None : False :  True :  Reals\n",
            "          2 :  None :  None :  None : False :  True :  Reals\n",
            "          3 :  None :  None :  None : False :  True :  Reals\n",
            "    y : Size=3, Index=y_index\n",
            "        Key : Lower : Value : Upper : Fixed : Stale : Domain\n",
            "          1 :     0 :  None :     1 : False :  True : Binary\n",
            "          2 :     0 :  None :     1 : False :  True : Binary\n",
            "          3 :     0 :  None :     1 : False :  True : Binary\n",
            "\n",
            "1 Objective Declarations\n",
            "    objective : Size=1, Index=None, Active=True\n",
            "        Key  : Active : Sense    : Expression\n",
            "        None :   True : maximize : x[1] + x[2] + x[3] - 40*y[1] - 50*y[2] - 10*y[3]\n",
            "\n",
            "9 Constraint Declarations\n",
            "    constraint1 : Size=1, Index=None, Active=True\n",
            "        Key  : Lower : Body                   : Upper : Active\n",
            "        None :  -Inf : 2*x[1] + x[2] + 3*x[3] :  70.0 :   True\n",
            "    constraint2 : Size=1, Index=None, Active=True\n",
            "        Key  : Lower : Body                     : Upper : Active\n",
            "        None :  -Inf : - x[1] + 5*x[2] + 2*x[3] : 100.0 :   True\n",
            "    constraint3 : Size=1, Index=None, Active=True\n",
            "        Key  : Lower : Body                     : Upper : Active\n",
            "        None :  -Inf : - x[1] - 2*x[2] + 6*x[3] :  90.0 :   True\n",
            "    constraint4 : Size=1, Index=None, Active=True\n",
            "        Key  : Lower : Body             : Upper : Active\n",
            "        None :  -Inf : -100*y[1] - x[1] :   0.0 :   True\n",
            "    constraint5 : Size=1, Index=None, Active=True\n",
            "        Key  : Lower : Body            : Upper : Active\n",
            "        None :  -Inf : x[1] - 100*y[1] :   0.0 :   True\n",
            "    constraint6 : Size=1, Index=None, Active=True\n",
            "        Key  : Lower : Body            : Upper : Active\n",
            "        None :  -Inf : -80*y[2] - x[2] :   0.0 :   True\n",
            "    constraint7 : Size=1, Index=None, Active=True\n",
            "        Key  : Lower : Body           : Upper : Active\n",
            "        None :  -Inf : x[2] - 80*y[2] :   0.0 :   True\n",
            "    constraint8 : Size=1, Index=None, Active=True\n",
            "        Key  : Lower : Body            : Upper : Active\n",
            "        None :  -Inf : -60*y[3] - x[3] :   0.0 :   True\n",
            "    constraint9 : Size=1, Index=None, Active=True\n",
            "        Key  : Lower : Body           : Upper : Active\n",
            "        None :  -Inf : x[3] - 60*y[3] :   0.0 :   True\n",
            "\n",
            "14 Declarations: x_index x y_index y objective constraint1 constraint2 constraint3 constraint4 constraint5 constraint6 constraint7 constraint8 constraint9\n"
          ]
        }
      ]
    },
    {
      "cell_type": "code",
      "source": [
        "#Declare the solver as CBC\n",
        "opt = pyo.SolverFactory('cbc')\n",
        "\n",
        "#Solve the model\n",
        "result = opt.solve(model_2)\n",
        "result.write()"
      ],
      "metadata": {
        "id": "bt_HYHHdGSz8",
        "colab": {
          "base_uri": "https://localhost:8080/"
        },
        "outputId": "00e22c78-8e46-401f-d40c-403772b335c7"
      },
      "execution_count": null,
      "outputs": [
        {
          "output_type": "stream",
          "name": "stdout",
          "text": [
            "# ==========================================================\n",
            "# = Solver Results                                         =\n",
            "# ==========================================================\n",
            "# ----------------------------------------------------------\n",
            "#   Problem Information\n",
            "# ----------------------------------------------------------\n",
            "Problem: \n",
            "- Name: unknown\n",
            "  Lower bound: 6.66666667\n",
            "  Upper bound: 6.66666667\n",
            "  Number of objectives: 1\n",
            "  Number of constraints: 9\n",
            "  Number of variables: 6\n",
            "  Number of binary variables: 3\n",
            "  Number of integer variables: 3\n",
            "  Number of nonzeros: 6\n",
            "  Sense: maximize\n",
            "# ----------------------------------------------------------\n",
            "#   Solver Information\n",
            "# ----------------------------------------------------------\n",
            "Solver: \n",
            "- Status: ok\n",
            "  User time: -1.0\n",
            "  System time: 0.02\n",
            "  Wallclock time: 0.02\n",
            "  Termination condition: optimal\n",
            "  Termination message: Model was solved to optimality (subject to tolerances), and an optimal solution is available.\n",
            "  Statistics: \n",
            "    Branch and bound: \n",
            "      Number of bounded subproblems: 0\n",
            "      Number of created subproblems: 0\n",
            "    Black box: \n",
            "      Number of iterations: 52\n",
            "  Error rc: 0\n",
            "  Time: 0.04450654983520508\n",
            "# ----------------------------------------------------------\n",
            "#   Solution Information\n",
            "# ----------------------------------------------------------\n",
            "Solution: \n",
            "- number of solutions: 0\n",
            "  number of solutions displayed: 0\n"
          ]
        }
      ]
    },
    {
      "cell_type": "markdown",
      "source": [
        "**Optimal Solution Found**"
      ],
      "metadata": {
        "id": "Cu2YhnUgrKPO"
      }
    },
    {
      "cell_type": "code",
      "source": [
        "#Access and print the variable values\n",
        "print(\"x[1] = \", pyo.value(model_2.x[1]))\n",
        "print(\"x[2] = \", pyo.value(model_2.x[2]))\n",
        "print(\"x[3] = \", pyo.value(model_2.x[3]))\n",
        "print(\"y[1] = \", pyo.value(model_2.y[1]))\n",
        "print(\"y[2] = \", pyo.value(model_2.y[2]))\n",
        "print(\"y[3] = \", pyo.value(model_2.y[3]))\n",
        "\n",
        "#Access and print the objective value\n",
        "print(\"Objective Value = \", pyo.value(model_2.objective))"
      ],
      "metadata": {
        "id": "B2iit2qSGTBN",
        "colab": {
          "base_uri": "https://localhost:8080/"
        },
        "outputId": "d0b2445d-2922-47b2-c698-9e0181794f2e"
      },
      "execution_count": null,
      "outputs": [
        {
          "output_type": "stream",
          "name": "stdout",
          "text": [
            "x[1] =  100.0\n",
            "x[2] =  0.0\n",
            "x[3] =  -43.333333\n",
            "y[1] =  1.0\n",
            "y[2] =  0.0\n",
            "y[3] =  1.0\n",
            "Objective Value =  6.666666999999997\n"
          ]
        }
      ]
    },
    {
      "cell_type": "code",
      "source": [
        "#Access and print the slack of each constraint\n",
        "#Use \"uslack\" because they were <= constraints\n",
        "#Use \"lslack\" if they are >= constraints\n",
        "print(\"constraint 1 slack = \", pyo.value(model_2.constraint1.uslack()))\n",
        "print(\"constraint 2 slack = \", pyo.value(model_2.constraint2.uslack()))\n",
        "print(\"constraint 3 slack = \", pyo.value(model_2.constraint3.uslack()))\n",
        "print(\"constraint 4 slack = \", pyo.value(model_2.constraint4.uslack()))\n",
        "print(\"constraint 5 slack = \", pyo.value(model_2.constraint5.uslack()))\n",
        "print(\"constraint 6 slack = \", pyo.value(model_2.constraint6.uslack()))\n",
        "print(\"constraint 7 slack = \", pyo.value(model_2.constraint7.uslack()))\n",
        "print(\"constraint 8 slack = \", pyo.value(model_2.constraint8.uslack()))\n",
        "print(\"constraint 9 slack = \", pyo.value(model_2.constraint9.uslack()))"
      ],
      "metadata": {
        "id": "SBAKO0mQOQr-",
        "colab": {
          "base_uri": "https://localhost:8080/"
        },
        "outputId": "b8c872a4-5ed6-49c7-c1ea-46ea7bab2328"
      },
      "execution_count": null,
      "outputs": [
        {
          "output_type": "stream",
          "name": "stdout",
          "text": [
            "constraint 1 slack =  -9.999999974752427e-07\n",
            "constraint 2 slack =  286.666666\n",
            "constraint 3 slack =  449.999998\n",
            "constraint 4 slack =  200.0\n",
            "constraint 5 slack =  0.0\n",
            "constraint 6 slack =  0.0\n",
            "constraint 7 slack =  0.0\n",
            "constraint 8 slack =  16.666666999999997\n",
            "constraint 9 slack =  103.33333300000001\n"
          ]
        }
      ]
    },
    {
      "cell_type": "markdown",
      "source": [
        "#Problem 3  \n",
        "Non-Linear & Non-Integer"
      ],
      "metadata": {
        "id": "CSkFjdh2krnz"
      }
    },
    {
      "cell_type": "code",
      "source": [
        "!wget -N -q \"https://ampl.com/dl/open/ipopt/ipopt-linux64.zip\"\n",
        "!unzip -o -q ipopt-linux64"
      ],
      "metadata": {
        "id": "r9-JFoEhHSi5"
      },
      "execution_count": null,
      "outputs": []
    },
    {
      "cell_type": "code",
      "source": [
        "#Import Pyomo and define a concrete model\n",
        "import pyomo.environ as pyo\n",
        "\n",
        "model_3 = pyo.ConcreteModel()\n",
        "\n",
        "#Add variables x[1] and x[2] to model\n",
        "model_3.x = pyo.Var([1,2,3], domain=pyo.PositiveReals, bounds = (1,None))  ####### is PositiveReals the right one #####\n",
        "\n",
        "#Define the objective\n",
        "model_3.objective = pyo.Objective(expr= 7*pyo.log(model_3.x[1]) + 4*pyo.log(model_3.x[2]) + 11*pyo.log(model_3.x[3]), sense=pyo.maximize)\n",
        "\n",
        "#Define the constraints\n",
        "model_3.constraint1 = pyo.Constraint(expr = (model_3.x[1] + 2)**2 - model_3.x[1]*model_3.x[2] + (model_3.x[2] - 7)**2 <= 80)\n",
        "model_3.constraint2 = pyo.Constraint(expr = 5*model_3.x[1] + 7*model_3.x[3] == 22)"
      ],
      "metadata": {
        "id": "ed-UpQ3mJW6V"
      },
      "execution_count": null,
      "outputs": []
    },
    {
      "cell_type": "code",
      "source": [
        "model_3.pprint()"
      ],
      "metadata": {
        "id": "9C1Oyu-5JXCO",
        "colab": {
          "base_uri": "https://localhost:8080/"
        },
        "outputId": "6c8c1110-c791-4d03-a661-dcbff8148f16"
      },
      "execution_count": null,
      "outputs": [
        {
          "output_type": "stream",
          "name": "stdout",
          "text": [
            "1 Set Declarations\n",
            "    x_index : Size=1, Index=None, Ordered=Insertion\n",
            "        Key  : Dimen : Domain : Size : Members\n",
            "        None :     1 :    Any :    3 : {1, 2, 3}\n",
            "\n",
            "1 Var Declarations\n",
            "    x : Size=3, Index=x_index\n",
            "        Key : Lower : Value : Upper : Fixed : Stale : Domain\n",
            "          1 :     1 :  None :  None : False :  True : PositiveReals\n",
            "          2 :     1 :  None :  None : False :  True : PositiveReals\n",
            "          3 :     1 :  None :  None : False :  True : PositiveReals\n",
            "\n",
            "1 Objective Declarations\n",
            "    objective : Size=1, Index=None, Active=True\n",
            "        Key  : Active : Sense    : Expression\n",
            "        None :   True : maximize : 7*log(x[1]) + 4*log(x[2]) + 11*log(x[3])\n",
            "\n",
            "2 Constraint Declarations\n",
            "    constraint1 : Size=1, Index=None, Active=True\n",
            "        Key  : Lower : Body                                      : Upper : Active\n",
            "        None :  -Inf : (x[1] + 2)**2 - x[1]*x[2] + (x[2] - 7)**2 :  80.0 :   True\n",
            "    constraint2 : Size=1, Index=None, Active=True\n",
            "        Key  : Lower : Body            : Upper : Active\n",
            "        None :  22.0 : 5*x[1] + 7*x[3] :  22.0 :   True\n",
            "\n",
            "5 Declarations: x_index x objective constraint1 constraint2\n"
          ]
        }
      ]
    },
    {
      "cell_type": "code",
      "source": [
        "from sys import executable\n",
        "#Declare the solver as ipopt\n",
        "opt = pyo.SolverFactory('ipopt', executable = '/content/ipopt')\n",
        "\n",
        "#Solve the model\n",
        "result = opt.solve(model_3)\n",
        "result.write()"
      ],
      "metadata": {
        "id": "ZNJzZWLFJXJB",
        "colab": {
          "base_uri": "https://localhost:8080/"
        },
        "outputId": "8b10757a-e3ee-48e4-dbaa-8675d847835a"
      },
      "execution_count": null,
      "outputs": [
        {
          "output_type": "stream",
          "name": "stdout",
          "text": [
            "# ==========================================================\n",
            "# = Solver Results                                         =\n",
            "# ==========================================================\n",
            "# ----------------------------------------------------------\n",
            "#   Problem Information\n",
            "# ----------------------------------------------------------\n",
            "Problem: \n",
            "- Lower bound: -inf\n",
            "  Upper bound: inf\n",
            "  Number of objectives: 1\n",
            "  Number of constraints: 2\n",
            "  Number of variables: 3\n",
            "  Sense: unknown\n",
            "# ----------------------------------------------------------\n",
            "#   Solver Information\n",
            "# ----------------------------------------------------------\n",
            "Solver: \n",
            "- Status: ok\n",
            "  Message: Ipopt 3.12.13\\x3a Optimal Solution Found\n",
            "  Termination condition: optimal\n",
            "  Id: 0\n",
            "  Error rc: 0\n",
            "  Time: 0.03768754005432129\n",
            "# ----------------------------------------------------------\n",
            "#   Solution Information\n",
            "# ----------------------------------------------------------\n",
            "Solution: \n",
            "- number of solutions: 0\n",
            "  number of solutions displayed: 0\n"
          ]
        }
      ]
    },
    {
      "cell_type": "markdown",
      "source": [
        "**Optimal Solution Found**"
      ],
      "metadata": {
        "id": "yWU6y5b9tKe5"
      }
    },
    {
      "cell_type": "code",
      "source": [
        "#Access and print the variable values\n",
        "print(\"x[1] = \", pyo.value(model_3.x[1]))\n",
        "print(\"x[2] = \", pyo.value(model_3.x[2]))\n",
        "print(\"x[3] = \", pyo.value(model_3.x[3]))\n",
        "\n",
        "#Access and print the objective value\n",
        "print(\"Objective Value = \", pyo.value(model_3.objective))"
      ],
      "metadata": {
        "id": "cMlFpySYJXOs",
        "colab": {
          "base_uri": "https://localhost:8080/"
        },
        "outputId": "cd3ce2cf-1c0f-49ec-bbc9-14e8faa4ea5d"
      },
      "execution_count": null,
      "outputs": [
        {
          "output_type": "stream",
          "name": "stdout",
          "text": [
            "x[1] =  1.7431514978189366\n",
            "x[2] =  16.756986389304743\n",
            "x[3] =  1.8977489301293309\n",
            "Objective Value =  22.21247635274502\n"
          ]
        }
      ]
    },
    {
      "cell_type": "code",
      "source": [
        "#Access and print the slack of each constraint\n",
        "#Use \"uslack\" because they were <= constraints\n",
        "#Use \"lslack\" if they are >= constraints\n",
        "print(\"constraint 1 slack = \", pyo.value(model_3.constraint1.uslack()))\n",
        "print(\"constraint 2 slack = \", pyo.value(model_3.constraint2.uslack()))"
      ],
      "metadata": {
        "colab": {
          "base_uri": "https://localhost:8080/"
        },
        "id": "6DihVcJ5V4SP",
        "outputId": "f9c48dfb-f493-4722-b6f1-d9b4daf6bc17"
      },
      "execution_count": null,
      "outputs": [
        {
          "output_type": "stream",
          "name": "stdout",
          "text": [
            "constraint 1 slack =  -6.132540590897406e-07\n",
            "constraint 2 slack =  0.0\n"
          ]
        }
      ]
    },
    {
      "cell_type": "markdown",
      "source": [
        "#Problem 4   \n",
        "Non-Linear & Integer"
      ],
      "metadata": {
        "id": "QzXZ4TfVktgg"
      }
    },
    {
      "cell_type": "code",
      "source": [
        "!wget -N -q \"https://ampl.com/dl/open/bonmin/bonmin-linux64.zip\"\n",
        "!unzip -o -q bonmin-linux64\n",
        "!wget -N -q \"https://ampl.com/dl/open/couenne/couenne-linux64.zip\"\n",
        "!unzip -o -q couenne-linux64"
      ],
      "metadata": {
        "id": "4kWM1E2YHUXO"
      },
      "execution_count": null,
      "outputs": []
    },
    {
      "cell_type": "code",
      "source": [
        "#Import Pyomo and define a concrete model\n",
        "import pyomo.environ as pyo\n",
        "\n",
        "model_4 = pyo.ConcreteModel()\n",
        "\n",
        "#Add variables x[1] and x[2] to model\n",
        "model_4.x = pyo.Var([1,2,3], domain=pyo.PositiveIntegers, bounds = (1,None))\n",
        "\n",
        "#Define the objective \"5x[1] + 4x[2]\"\n",
        "model_4.objective = pyo.Objective(expr= 7*pyo.log(model_4.x[1]) + 4*pyo.log(model_4.x[2]) + 11*pyo.log(model_4.x[3]), sense=pyo.maximize)\n",
        "\n",
        "#Define the constraints\n",
        "model_4.constraint1 = pyo.Constraint(expr = (model_4.x[1] + 2)**2 - model_4.x[1]*model_4.x[2] + (model_4.x[2] - 7)**2 <= 80)\n",
        "model_4.constraint2 = pyo.Constraint(expr = 5*model_4.x[1] + 7*model_4.x[3] <= 52)\n",
        "#model_3.constraint3 = pyo.Constraint(expr = model_3.x[1] >= 1)\n",
        "#model_3.constraint4 = pyo.Constraint(expr = model_3.x[2] >= 1)\n",
        "#model_3.constraint5 = pyo.Constraint(expr = model_3.x[3] >= 1)"
      ],
      "metadata": {
        "id": "9CSxXXCRZdLb"
      },
      "execution_count": null,
      "outputs": []
    },
    {
      "cell_type": "code",
      "source": [
        "model_4.pprint()"
      ],
      "metadata": {
        "colab": {
          "base_uri": "https://localhost:8080/"
        },
        "id": "WgBot9Hmt2qp",
        "outputId": "f2c8fef0-0645-4bbf-9cb8-52aafd1e93b8"
      },
      "execution_count": null,
      "outputs": [
        {
          "output_type": "stream",
          "name": "stdout",
          "text": [
            "1 Set Declarations\n",
            "    x_index : Size=1, Index=None, Ordered=Insertion\n",
            "        Key  : Dimen : Domain : Size : Members\n",
            "        None :     1 :    Any :    3 : {1, 2, 3}\n",
            "\n",
            "1 Var Declarations\n",
            "    x : Size=3, Index=x_index\n",
            "        Key : Lower : Value : Upper : Fixed : Stale : Domain\n",
            "          1 :     1 :  None :  None : False :  True : PositiveIntegers\n",
            "          2 :     1 :  None :  None : False :  True : PositiveIntegers\n",
            "          3 :     1 :  None :  None : False :  True : PositiveIntegers\n",
            "\n",
            "1 Objective Declarations\n",
            "    objective : Size=1, Index=None, Active=True\n",
            "        Key  : Active : Sense    : Expression\n",
            "        None :   True : maximize : 7*log(x[1]) + 4*log(x[2]) + 11*log(x[3])\n",
            "\n",
            "2 Constraint Declarations\n",
            "    constraint1 : Size=1, Index=None, Active=True\n",
            "        Key  : Lower : Body                                      : Upper : Active\n",
            "        None :  -Inf : (x[1] + 2)**2 - x[1]*x[2] + (x[2] - 7)**2 :  80.0 :   True\n",
            "    constraint2 : Size=1, Index=None, Active=True\n",
            "        Key  : Lower : Body            : Upper : Active\n",
            "        None :  -Inf : 5*x[1] + 7*x[3] :  52.0 :   True\n",
            "\n",
            "5 Declarations: x_index x objective constraint1 constraint2\n"
          ]
        }
      ]
    },
    {
      "cell_type": "markdown",
      "source": [
        "## Couenne"
      ],
      "metadata": {
        "id": "OnXwwDNzw3k4"
      }
    },
    {
      "cell_type": "code",
      "source": [
        "#Declare the solver as Couenne\n",
        "opt = pyo.SolverFactory('couenne')\n",
        "\n",
        "#Solve the model\n",
        "result = opt.solve(model_4)\n",
        "result.write()"
      ],
      "metadata": {
        "colab": {
          "base_uri": "https://localhost:8080/"
        },
        "id": "YCpurJdmw_Yr",
        "outputId": "9340ce9b-a843-4cb4-9663-1bc2f7bb189a"
      },
      "execution_count": null,
      "outputs": [
        {
          "output_type": "stream",
          "name": "stdout",
          "text": [
            "# ==========================================================\n",
            "# = Solver Results                                         =\n",
            "# ==========================================================\n",
            "# ----------------------------------------------------------\n",
            "#   Problem Information\n",
            "# ----------------------------------------------------------\n",
            "Problem: \n",
            "- Lower bound: -inf\n",
            "  Upper bound: inf\n",
            "  Number of objectives: 1\n",
            "  Number of constraints: 0\n",
            "  Number of variables: 3\n",
            "  Sense: unknown\n",
            "# ----------------------------------------------------------\n",
            "#   Solver Information\n",
            "# ----------------------------------------------------------\n",
            "Solver: \n",
            "- Status: ok\n",
            "  Message: couenne\\x3a Optimal\n",
            "  Termination condition: optimal\n",
            "  Id: 3\n",
            "  Error rc: 0\n",
            "  Time: 0.05664634704589844\n",
            "# ----------------------------------------------------------\n",
            "#   Solution Information\n",
            "# ----------------------------------------------------------\n",
            "Solution: \n",
            "- number of solutions: 0\n",
            "  number of solutions displayed: 0\n"
          ]
        }
      ]
    },
    {
      "cell_type": "markdown",
      "source": [
        "**Optimal Solution Found**"
      ],
      "metadata": {
        "id": "43Q7grvUoZ7w"
      }
    },
    {
      "cell_type": "code",
      "source": [
        "#Access and print the variable values\n",
        "print(\"x[1] = \", pyo.value(model_4.x[1]))\n",
        "print(\"x[2] = \", pyo.value(model_4.x[2]))\n",
        "print(\"x[3] = \", pyo.value(model_4.x[3]))\n",
        "\n",
        "#Access and print the objective value\n",
        "print(\"Objective Value = \", pyo.value(model_4.objective))"
      ],
      "metadata": {
        "colab": {
          "base_uri": "https://localhost:8080/"
        },
        "id": "9miN2-YuT2EU",
        "outputId": "4dfb793a-6adc-4158-9e6e-a1d0069ff095"
      },
      "execution_count": null,
      "outputs": [
        {
          "output_type": "stream",
          "name": "stdout",
          "text": [
            "x[1] =  3.0000000000000004\n",
            "x[2] =  17.0\n",
            "x[3] =  5.0\n",
            "Objective Value =  36.72695643367673\n"
          ]
        }
      ]
    },
    {
      "cell_type": "code",
      "source": [
        "#Access and print the slack of each constraint\n",
        "#Use \"uslack\" because they were <= constraints\n",
        "#Use \"lslack\" if they are >= constraints\n",
        "print(\"constraint 1 slack = \", pyo.value(model_4.constraint1.uslack()))\n",
        "print(\"constraint 2 slack = \", pyo.value(model_4.constraint2.uslack()))"
      ],
      "metadata": {
        "colab": {
          "base_uri": "https://localhost:8080/"
        },
        "id": "Awy3KEbwUdra",
        "outputId": "b516a490-0a14-49b3-d928-cfcda8a5edba"
      },
      "execution_count": null,
      "outputs": [
        {
          "output_type": "stream",
          "name": "stdout",
          "text": [
            "constraint 1 slack =  6.0\n",
            "constraint 2 slack =  2.0\n"
          ]
        }
      ]
    },
    {
      "cell_type": "markdown",
      "source": [
        "## **Bonmin**"
      ],
      "metadata": {
        "id": "DvzEgmRnvQ7G"
      }
    },
    {
      "cell_type": "code",
      "source": [
        "#Declare the solver as Bonmin\n",
        "opt = pyo.SolverFactory('bonmin')\n",
        "\n",
        "#Solve the model\n",
        "result = opt.solve(model_4)\n",
        "result.write()"
      ],
      "metadata": {
        "colab": {
          "base_uri": "https://localhost:8080/"
        },
        "id": "z08V9a04t3AJ",
        "outputId": "31d11916-5dba-4662-e256-7c88ea3b0236"
      },
      "execution_count": null,
      "outputs": [
        {
          "output_type": "stream",
          "name": "stdout",
          "text": [
            "# ==========================================================\n",
            "# = Solver Results                                         =\n",
            "# ==========================================================\n",
            "# ----------------------------------------------------------\n",
            "#   Problem Information\n",
            "# ----------------------------------------------------------\n",
            "Problem: \n",
            "- Lower bound: -inf\n",
            "  Upper bound: inf\n",
            "  Number of objectives: 1\n",
            "  Number of constraints: 0\n",
            "  Number of variables: 3\n",
            "  Sense: unknown\n",
            "# ----------------------------------------------------------\n",
            "#   Solver Information\n",
            "# ----------------------------------------------------------\n",
            "Solver: \n",
            "- Status: ok\n",
            "  Message: bonmin\\x3a Optimal\n",
            "  Termination condition: optimal\n",
            "  Id: 3\n",
            "  Error rc: 0\n",
            "  Time: 0.21960711479187012\n",
            "# ----------------------------------------------------------\n",
            "#   Solution Information\n",
            "# ----------------------------------------------------------\n",
            "Solution: \n",
            "- number of solutions: 0\n",
            "  number of solutions displayed: 0\n"
          ]
        }
      ]
    },
    {
      "cell_type": "markdown",
      "source": [
        "**Optimal Solution Found**"
      ],
      "metadata": {
        "id": "2Ys4ghnFonEo"
      }
    },
    {
      "cell_type": "code",
      "source": [
        "#Access and print the variable values\n",
        "print(\"x[1] = \", pyo.value(model_4.x[1]))\n",
        "print(\"x[2] = \", pyo.value(model_4.x[2]))\n",
        "print(\"x[3] = \", pyo.value(model_4.x[3]))\n",
        "\n",
        "#Access and print the objective value\n",
        "print(\"Objective Value = \", pyo.value(model_4.objective))"
      ],
      "metadata": {
        "colab": {
          "base_uri": "https://localhost:8080/"
        },
        "id": "R8Vm5a_KT9uy",
        "outputId": "3f19e845-7839-4d1a-8fe9-f6b7eab03bee"
      },
      "execution_count": null,
      "outputs": [
        {
          "output_type": "stream",
          "name": "stdout",
          "text": [
            "x[1] =  3.0\n",
            "x[2] =  17.0\n",
            "x[3] =  5.0\n",
            "Objective Value =  36.72695643367673\n"
          ]
        }
      ]
    },
    {
      "cell_type": "code",
      "source": [
        "#Access and print the slack of each constraint\n",
        "#Use \"uslack\" because they were <= constraints\n",
        "#Use \"lslack\" if they are >= constraints\n",
        "print(\"constraint 1 slack = \", pyo.value(model_3.constraint1.uslack()))\n",
        "print(\"constraint 2 slack = \", pyo.value(model_3.constraint2.uslack()))"
      ],
      "metadata": {
        "colab": {
          "base_uri": "https://localhost:8080/"
        },
        "id": "MwIwX470Us4K",
        "outputId": "6271d63c-7765-4b3f-83fe-08382aa3f639"
      },
      "execution_count": null,
      "outputs": [
        {
          "output_type": "stream",
          "name": "stdout",
          "text": [
            "constraint 1 slack =  -6.132540590897406e-07\n",
            "constraint 2 slack =  0.0\n"
          ]
        }
      ]
    },
    {
      "cell_type": "markdown",
      "source": [
        "## **Compairing Results**"
      ],
      "metadata": {
        "id": "BiTlHTrEoCWU"
      }
    },
    {
      "cell_type": "markdown",
      "source": [
        "The results are the same with respect to floating point arithmetic."
      ],
      "metadata": {
        "id": "ErEj2orsotOm"
      }
    }
  ]
}